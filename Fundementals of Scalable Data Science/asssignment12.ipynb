{
 "cells": [
  {
   "cell_type": "markdown",
   "metadata": {
    "collapsed": true
   },
   "source": [
    "# Welcome\n",
    "Welcome the the 1st course on coursera called \"A developer's guide to Exploratory Analysis of IoT Sensor Data\" which can be found here: https://www.coursera.org/teach/developer-iot-data-analyst-exploratory\n"
   ]
  },
  {
   "cell_type": "markdown",
   "metadata": {},
   "source": [
    "The intention of this template is to give a framework where the individual programming assignments can be implemented. This is the one for Week 1"
   ]
  },
  {
   "cell_type": "markdown",
   "metadata": {},
   "source": [
    "# Question 1\n",
    "Below you see some ApacheSpark code written in Python which will be picked up by the auto grader of coursera.org. You don't have to change code now, the only thing we want you to do is export this notebook as python code so that the grader can assess it. This is an exercice ment to make sure the submission process works on your side.\n",
    "\n",
    "PLEASE DON'T ADD ANY CODE OUTSIDE THE assignment1 FUNCTION"
   ]
  },
  {
   "cell_type": "code",
   "execution_count": 1,
   "metadata": {},
   "outputs": [
    {
     "name": "stdout",
     "output_type": "stream",
     "text": [
      "Waiting for a Spark session to start...\n",
      "Spark Initialization Done! ApplicationId = app-20190812050045-0000\n",
      "KERNEL_ID = 62b27a7b-ef04-490a-8af4-d9d9169c2e84\n"
     ]
    }
   ],
   "source": [
    "def assignment1(sc):\n",
    "    rdd = sc.parallelize(range(100))\n",
    "    return rdd.count()"
   ]
  },
  {
   "cell_type": "code",
   "execution_count": 2,
   "metadata": {},
   "outputs": [],
   "source": [
    "### PLEASE DON'T REMOVE THIS BLOCK - THE FOLLOWING CODE IS NOT GRADED\n",
    "#axx\n",
    "### PLEASE DON'T REMOVE THIS BLOCK - THE FOLLOWING CODE IS NOT GRADED"
   ]
  },
  {
   "cell_type": "code",
   "execution_count": 3,
   "metadata": {},
   "outputs": [
    {
     "name": "stdout",
     "output_type": "stream",
     "text": [
      "100\n"
     ]
    }
   ],
   "source": [
    "print(assignment1(sc))"
   ]
  }
 ],
 "metadata": {
  "kernelspec": {
   "display_name": "Python 3",
   "language": "python",
   "name": "python3"
  },
  "language_info": {
   "codemirror_mode": {
    "name": "ipython",
    "version": 3
   },
   "file_extension": ".py",
   "mimetype": "text/x-python",
   "name": "python",
   "nbconvert_exporter": "python",
   "pygments_lexer": "ipython3",
   "version": "3.8.3"
  }
 },
 "nbformat": 4,
 "nbformat_minor": 1
}
